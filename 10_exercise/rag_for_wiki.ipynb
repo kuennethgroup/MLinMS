{
  "cells": [
    {
      "cell_type": "markdown",
      "metadata": {},
      "source": [
        "# RAG - retrieval augmented generation\n",
        "\n",
        "<!--<badge>--><a href=\"https://colab.research.google.com/github/kuennethgroup/colab_tutorials/blob/main/lecture11/rag_for_wiki.ipynb\" target=\"_parent\"><img src=\"https://colab.research.google.com/assets/colab-badge.svg\" alt=\"Open In Colab\"/></a><!--</badge>-->\n",
        "\n",
        "- llama-index for building the RAG pipeline\n",
        "- we want to ask question related to wikipedia articles on polymers\n"
      ]
    },
    {
      "cell_type": "code",
      "execution_count": 1,
      "metadata": {},
      "outputs": [],
      "source": [
        "import os\n",
        "\n",
        "# Restrict GPU usage to 2 and 3\n",
        "os.environ[\"CUDA_VISIBLE_DEVICES\"] = \"2\""
      ]
    },
    {
      "cell_type": "markdown",
      "metadata": {},
      "source": [
        "## Download polymer related information from wikipedia\n",
        "\n",
        "We use the wikipediaapi that create urls for pages"
      ]
    },
    {
      "cell_type": "code",
      "execution_count": 2,
      "metadata": {},
      "outputs": [],
      "source": [
        "import wikipediaapi\n",
        "\n",
        "polymer_wiki = [\n",
        "    \"Acrylonitrile butadiene styrene\",\n",
        "    \"Cross-linked polyethylene\",\n",
        "    \"Ethylene vinyl acetate\",\n",
        "    \"Poly(methyl methacrylate)\",\n",
        "    \"Poly(ethyl methacrylate)\",\n",
        "    \"Polyacrylic acid\",\n",
        "    \"Polyamide\",\n",
        "    \"Polybutylene\",\n",
        "    \"Polybutylene terephthalate\",\n",
        "    \"Polycarbonate\",\n",
        "    \"Polyetheretherketone\",\n",
        "    \"Polyester\",\n",
        "    \"Polyethylene\",\n",
        "    \"Polyethylene terephthalate\",\n",
        "    \"Polyimide\",\n",
        "    \"Polylactic acid\",\n",
        "    \"Polyoxymethylene\",\n",
        "    \"Polyphenyl ether\",\n",
        "    \"Poly(p-phenylene oxide)\",\n",
        "    \"Polypropylene\",\n",
        "    \"Polystyrene\",\n",
        "    \"Polysulfone\",\n",
        "    \"Polytetrafluoroethylene\",\n",
        "    \"Polyurethane\",\n",
        "    \"Polyvinyl chloride\",\n",
        "    \"Polyvinylidene chloride\",\n",
        "    \"Styrene maleic anhydride\",\n",
        "    \"Styrene-acrylonitrile\",\n",
        "    \"Tritan copolyester\",\n",
        "    \"Comonomer\",\n",
        "    \"Copolymer\",\n",
        "    \"Acrylonitrile butadiene styrene\",\n",
        "    \"Alginic acid\",\n",
        "    \"Arabinoxylan\",\n",
        "    \"Azoximer bromide\",\n",
        "    \"Bovhyaluronidase azoximer\",\n",
        "    \"Citroën Méhari\",\n",
        "    \"Cyclic olefin copolymer\",\n",
        "    \"Dispersity\",\n",
        "    \"Dynel\",\n",
        "    \"ECTFE\",\n",
        "    \"ETFE\",\n",
        "    \"Ethylene copolymer bitumen\",\n",
        "    \"Ethylene vinyl alcohol\",\n",
        "    \"Ethylene-vinyl acetate\",\n",
        "    \"Fluorinated ethylene propylene\",\n",
        "    \"Gradient copolymer\",\n",
        "    \"Ionomer\",\n",
        "    \"Kraton (polymer)\",\n",
        "    \"Merrifield resin\",\n",
        "    \"Methacrylate copolymer\",\n",
        "    \"Nitrile rubber\",\n",
        "    \"P123\",\n",
        "    \"Paraloid B-72\",\n",
        "    \"Polybutadiene acrylonitrile\",\n",
        "    \"PEDOT:PSS\",\n",
        "    \"PHBV\",\n",
        "    \"PLGA\",\n",
        "    \"Polilactofate\",\n",
        "    \"Polyacrylonitrile\",\n",
        "    \"Polydiethylstilbestrol phosphate\",\n",
        "    \"Polyestradiol phosphate\",\n",
        "    \"Polyestriol phosphate\",\n",
        "    \"Polyether block amide\",\n",
        "    \"Polytestosterone phloretin phosphate\",\n",
        "    \"Polyvinyl chloride acetate\",\n",
        "    \"Solvent vapour annealing\",\n",
        "    \"Spandex\",\n",
        "    \"Styrene maleic anhydride\",\n",
        "    \"Styrene-acrylonitrile resin\",\n",
        "    \"Styrene-butadiene\",\n",
        "]\n",
        "\n",
        "polymer_wiki = [w.replace(\" \", \"_\") for w in polymer_wiki]\n",
        "\n",
        "wiki_wiki = wikipediaapi.Wikipedia(\"polymers\", \"en\")\n",
        "urls = []\n",
        "for page in polymer_wiki:\n",
        "    page_py = wiki_wiki.page(page)\n",
        "    urls.append(page_py.fullurl)\n",
        "\n",
        "# Remove duplicates\n",
        "urls = list(set(urls))"
      ]
    },
    {
      "cell_type": "code",
      "execution_count": 3,
      "metadata": {},
      "outputs": [],
      "source": [
        "import logging\n",
        "import sys\n",
        "\n",
        "logging.basicConfig(stream=sys.stdout, level=logging.INFO)\n",
        "logging.getLogger().addHandler(logging.StreamHandler(stream=sys.stdout))"
      ]
    },
    {
      "cell_type": "code",
      "execution_count": 4,
      "metadata": {},
      "outputs": [],
      "source": [
        "from llama_index.core import SummaryIndex, VectorStoreIndex\n",
        "from llama_index.readers.web import SimpleWebPageReader\n",
        "from IPython.display import Markdown, display\n",
        "import os"
      ]
    },
    {
      "cell_type": "code",
      "execution_count": 6,
      "metadata": {},
      "outputs": [
        {
          "name": "stderr",
          "output_type": "stream",
          "text": [
            "/home/chris/courses/st24_MLinMS/.venv/lib/python3.10/site-packages/tqdm/auto.py:21: TqdmWarning: IProgress not found. Please update jupyter and ipywidgets. See https://ipywidgets.readthedocs.io/en/stable/user_install.html\n",
            "  from .autonotebook import tqdm as notebook_tqdm\n",
            "/home/chris/courses/st24_MLinMS/.venv/lib/python3.10/site-packages/huggingface_hub/file_download.py:1132: FutureWarning: `resume_download` is deprecated and will be removed in version 1.0.0. Downloads always resume when possible. If you want to force a new download, use `force_download=True`.\n",
            "  warnings.warn(\n"
          ]
        }
      ],
      "source": [
        "from llama_index.core import set_global_tokenizer\n",
        "from transformers import AutoTokenizer\n",
        "\n",
        "set_global_tokenizer(\n",
        "    AutoTokenizer.from_pretrained(\"NousResearch/Llama-2-7b-chat-hf\").encode\n",
        ")"
      ]
    },
    {
      "cell_type": "code",
      "execution_count": 10,
      "metadata": {},
      "outputs": [
        {
          "name": "stdout",
          "output_type": "stream",
          "text": [
            "INFO:sentence_transformers.SentenceTransformer:Load pretrained SentenceTransformer: BAAI/bge-small-en-v1.5\n",
            "Load pretrained SentenceTransformer: BAAI/bge-small-en-v1.5\n"
          ]
        },
        {
          "name": "stderr",
          "output_type": "stream",
          "text": [
            "2024-07-17 12:18:10.720492: E external/local_xla/xla/stream_executor/cuda/cuda_dnn.cc:9261] Unable to register cuDNN factory: Attempting to register factory for plugin cuDNN when one has already been registered\n",
            "2024-07-17 12:18:10.720578: E external/local_xla/xla/stream_executor/cuda/cuda_fft.cc:607] Unable to register cuFFT factory: Attempting to register factory for plugin cuFFT when one has already been registered\n",
            "2024-07-17 12:18:10.723044: E external/local_xla/xla/stream_executor/cuda/cuda_blas.cc:1515] Unable to register cuBLAS factory: Attempting to register factory for plugin cuBLAS when one has already been registered\n",
            "2024-07-17 12:18:10.731284: I tensorflow/core/platform/cpu_feature_guard.cc:182] This TensorFlow binary is optimized to use available CPU instructions in performance-critical operations.\n",
            "To enable the following instructions: AVX2 FMA, in other operations, rebuild TensorFlow with the appropriate compiler flags.\n",
            "2024-07-17 12:18:11.467106: W tensorflow/compiler/tf2tensorrt/utils/py_utils.cc:38] TF-TRT Warning: Could not find TensorRT\n",
            "/home/chris/courses/st24_MLinMS/.venv/lib/python3.10/site-packages/huggingface_hub/file_download.py:1132: FutureWarning: `resume_download` is deprecated and will be removed in version 1.0.0. Downloads always resume when possible. If you want to force a new download, use `force_download=True`.\n",
            "  warnings.warn(\n"
          ]
        },
        {
          "name": "stdout",
          "output_type": "stream",
          "text": [
            "INFO:sentence_transformers.SentenceTransformer:2 prompts are loaded, with the keys: ['query', 'text']\n",
            "2 prompts are loaded, with the keys: ['query', 'text']\n",
            "2 prompts are loaded, with the keys: ['query', 'text']\n"
          ]
        }
      ],
      "source": [
        "from llama_index.embeddings.huggingface import HuggingFaceEmbedding\n",
        "\n",
        "embed_model = HuggingFaceEmbedding(model_name=\"BAAI/bge-small-en-v1.5\")"
      ]
    },
    {
      "cell_type": "code",
      "execution_count": 13,
      "metadata": {},
      "outputs": [
        {
          "ename": "ModuleNotFoundError",
          "evalue": "No module named 'llama_index.llms.llama_cpp'",
          "output_type": "error",
          "traceback": [
            "\u001b[0;31m---------------------------------------------------------------------------\u001b[0m",
            "\u001b[0;31mModuleNotFoundError\u001b[0m                       Traceback (most recent call last)",
            "Cell \u001b[0;32mIn[13], line 1\u001b[0m\n\u001b[0;32m----> 1\u001b[0m \u001b[38;5;28;01mfrom\u001b[39;00m \u001b[38;5;21;01mllama_index\u001b[39;00m\u001b[38;5;21;01m.\u001b[39;00m\u001b[38;5;21;01mllms\u001b[39;00m\u001b[38;5;21;01m.\u001b[39;00m\u001b[38;5;21;01mllama_cpp\u001b[39;00m \u001b[38;5;28;01mimport\u001b[39;00m LlamaCPP\n\u001b[1;32m      2\u001b[0m \u001b[38;5;28;01mfrom\u001b[39;00m \u001b[38;5;21;01mllama_index\u001b[39;00m\u001b[38;5;21;01m.\u001b[39;00m\u001b[38;5;21;01mllms\u001b[39;00m\u001b[38;5;21;01m.\u001b[39;00m\u001b[38;5;21;01mllama_cpp\u001b[39;00m\u001b[38;5;21;01m.\u001b[39;00m\u001b[38;5;21;01mllama_utils\u001b[39;00m \u001b[38;5;28;01mimport\u001b[39;00m (\n\u001b[1;32m      3\u001b[0m     messages_to_prompt,\n\u001b[1;32m      4\u001b[0m     completion_to_prompt,\n\u001b[1;32m      5\u001b[0m )\n\u001b[1;32m      7\u001b[0m model_url \u001b[38;5;241m=\u001b[39m \u001b[38;5;124m\"\u001b[39m\u001b[38;5;124mhttps://huggingface.co/TheBloke/Llama-2-13B-chat-GGUF/resolve/main/llama-2-13b-chat.Q4_K_M.gguf\u001b[39m\u001b[38;5;124m\"\u001b[39m\n",
            "\u001b[0;31mModuleNotFoundError\u001b[0m: No module named 'llama_index.llms.llama_cpp'"
          ]
        }
      ],
      "source": [
        "from llama_index.llms.llama_cpp import LlamaCPP\n",
        "from llama_index.llms.llama_cpp.llama_utils import (\n",
        "    messages_to_prompt,\n",
        "    completion_to_prompt,\n",
        ")\n",
        "\n",
        "model_url = \"https://huggingface.co/TheBloke/Llama-2-13B-chat-GGUF/resolve/main/llama-2-13b-chat.Q4_K_M.gguf\"\n",
        "llm = LlamaCPP(\n",
        "    # You can pass in the URL to a GGML model to download it automatically\n",
        "    model_url=model_url,\n",
        "    # optionally, you can set the path to a pre-downloaded model instead of model_url\n",
        "    model_path=None,\n",
        "    temperature=0.1,\n",
        "    max_new_tokens=256,\n",
        "    # llama2 has a context window of 4096 tokens, but we set it lower to allow for some wiggle room\n",
        "    context_window=3900,\n",
        "    # kwargs to pass to __call__()\n",
        "    generate_kwargs={},\n",
        "    # kwargs to pass to __init__()\n",
        "    # set to at least 1 to use GPU\n",
        "    model_kwargs={\"n_gpu_layers\": 1},\n",
        "    # transform inputs into Llama2 format\n",
        "    messages_to_prompt=messages_to_prompt,\n",
        "    completion_to_prompt=completion_to_prompt,\n",
        "    verbose=True,\n",
        ")"
      ]
    },
    {
      "cell_type": "code",
      "execution_count": null,
      "metadata": {},
      "outputs": [],
      "source": [
        "from llama_index import ServiceContext\n",
        "\n",
        "service_context = ServiceContext.from_defaults(llm=llm, embed_model=embed_model)\n",
        "\n",
        "from llama_index import (\n",
        "    VectorStoreIndex,\n",
        "    load_index_from_storage,\n",
        "    StorageContext,\n",
        ")\n",
        "\n",
        "\n",
        "# check if storage already exists\n",
        "PERSIST_DIR = \"./storage\"\n",
        "if not os.path.exists(PERSIST_DIR):\n",
        "    # load the documents and create the index\n",
        "    documents = SimpleWebPageReader(html_to_text=True).load_data(urls)\n",
        "    index = VectorStoreIndex.from_documents(documents, service_context=service_context)\n",
        "    # store it for later\n",
        "    index.storage_context.persist(persist_dir=PERSIST_DIR)\n",
        "else:\n",
        "    # load the existing index\n",
        "    storage_context = StorageContext.from_defaults(persist_dir=PERSIST_DIR)\n",
        "    index = load_index_from_storage(storage_context, service_context=service_context)\n",
        "\n",
        "query_engine = index.as_query_engine()"
      ]
    },
    {
      "cell_type": "code",
      "execution_count": null,
      "metadata": {},
      "outputs": [
        {
          "name": "stderr",
          "output_type": "stream",
          "text": [
            "\n",
            "llama_print_timings:        load time =   10120.94 ms\n",
            "llama_print_timings:      sample time =      37.37 ms /   204 runs   (    0.18 ms per token,  5458.34 tokens per second)\n",
            "llama_print_timings: prompt eval time =   20409.76 ms /   956 tokens (   21.35 ms per token,    46.84 tokens per second)\n",
            "llama_print_timings:        eval time =   87276.16 ms /   203 runs   (  429.93 ms per token,     2.33 tokens per second)\n",
            "llama_print_timings:       total time =  108172.56 ms /  1159 tokens\n"
          ]
        },
        {
          "data": {
            "text/markdown": [
              "  Based on the provided context information, the Tg (glass transition temperature) of PEBA (Polyether block amide) is not explicitly mentioned. However, it can be inferred that the Tg of PEBA is likely to be relatively high due to its high molecular weight and crystalline structure.\n",
              "\n",
              "The Tg of a polymer is an important property that determines its thermal stability and mechanical behavior. In general, high Tg materials tend to have better thermal stability and resistance to degradation, but may exhibit more brittle behavior at lower temperatures.\n",
              "\n",
              "Since PEBA is used in various applications such as sports equipment, medical products, and electronic goods, it is likely that the Tg of PEBA is designed to be relatively high to ensure its thermal stability and mechanical properties under different operating conditions. However, without specific information on the Tg of PEBA, it is not possible to provide a more precise answer."
            ],
            "text/plain": [
              "<IPython.core.display.Markdown object>"
            ]
          },
          "metadata": {},
          "output_type": "display_data"
        }
      ],
      "source": [
        "# set Logging to DEBUG for more detailed outputs\n",
        "response = query_engine.query(\"What are the Tgs of PE?\")\n",
        "display(Markdown(f\"{response}\"))"
      ]
    },
    {
      "cell_type": "code",
      "execution_count": null,
      "metadata": {},
      "outputs": [
        {
          "name": "stderr",
          "output_type": "stream",
          "text": [
            "Llama.generate: prefix-match hit\n",
            "\n"
          ]
        },
        {
          "data": {
            "text/markdown": [
              "  Sure! Based on the provided context information, here are the properties of polyethylene mentioned in the text:\n",
              "\n",
              "| Property | Description |\n",
              "| --- | --- |\n",
              "| Density | The density of polyethylene depends significantly on variables such as the extent and type of branching, the crystal structure, and the molecular weight. |\n",
              "| Branching | Polyethylene can have different types of branching, which affect its mechanical properties. |\n",
              "| Molecular weight | The molecular weight of polyethylene is measured in millions of atomic mass units (amu), typically between 3.5 and 7.5 million amu. |\n",
              "| Crystal structure | The crystal structure of polyethylene affects its mechanical properties. |\n",
              "| Ultra-high-molecular-weight | Polyethylene with a molecular weight numbering in the millions, usually between 3.5 and 7.5 million amu, is called ultra-high-molecular-weight polyethylene (UHMWPE). |\n",
              "| High-density | Polyethylene with a higher density than UHMWPE is called high-"
            ],
            "text/plain": [
              "<IPython.core.display.Markdown object>"
            ]
          },
          "metadata": {},
          "output_type": "display_data"
        },
        {
          "name": "stderr",
          "output_type": "stream",
          "text": [
            "llama_print_timings:        load time =   10120.94 ms\n",
            "llama_print_timings:      sample time =      44.17 ms /   256 runs   (    0.17 ms per token,  5795.26 tokens per second)\n",
            "llama_print_timings: prompt eval time =   19625.30 ms /   991 tokens (   19.80 ms per token,    50.50 tokens per second)\n",
            "llama_print_timings:        eval time =  109502.29 ms /   255 runs   (  429.42 ms per token,     2.33 tokens per second)\n",
            "llama_print_timings:       total time =  129760.05 ms /  1246 tokens\n"
          ]
        }
      ],
      "source": [
        "# set Logging to DEBUG for more detailed outputs\n",
        "response = query_engine.query(\n",
        "    \"Return all the properties mentioned for polyethylene as table \"\n",
        ")\n",
        "display(Markdown(f\"{response}\"))"
      ]
    },
    {
      "cell_type": "code",
      "execution_count": null,
      "metadata": {},
      "outputs": [
        {
          "name": "stderr",
          "output_type": "stream",
          "text": [
            "Llama.generate: prefix-match hit\n",
            "\n",
            "llama_print_timings:        load time =   10120.94 ms\n",
            "llama_print_timings:      sample time =      40.13 ms /   234 runs   (    0.17 ms per token,  5831.34 tokens per second)\n",
            "llama_print_timings: prompt eval time =   19015.47 ms /   921 tokens (   20.65 ms per token,    48.43 tokens per second)\n",
            "llama_print_timings:        eval time =   99051.76 ms /   233 runs   (  425.11 ms per token,     2.35 tokens per second)\n",
            "llama_print_timings:       total time =  118641.22 ms /  1154 tokens\n"
          ]
        },
        {
          "data": {
            "text/markdown": [
              "  Sure! Based on the provided context information, I can answer your query.\n",
              "\n",
              "The Tg (glass transition temperature) of PE (polyethylene) is not a fixed value and can vary depending on the specific type of PE and its manufacturing process. However, here is a general breakdown of the typical Tg ranges for different types of PE:\n",
              "\n",
              "| Type of PE | Tg Range (°C) |\n",
              "| --- | --- |\n",
              "| LLDPE (Linear Low-Density Polyethylene) | 40-60 |\n",
              "| HDPE (High-Density Polyethylene) | 80-120 |\n",
              "| PP (Polypropylene) | 120-160 |\n",
              "| PVC (Polyvinyl Chloride) | 180-240 |\n",
              "\n",
              "Please note that these are general ranges and the actual Tg of a specific material can vary depending on factors such as molecular weight, crystallinity, and additives."
            ],
            "text/plain": [
              "<IPython.core.display.Markdown object>"
            ]
          },
          "metadata": {},
          "output_type": "display_data"
        }
      ],
      "source": [
        "# set Logging to DEBUG for more detailed outputs\n",
        "response = query_engine.query(\"What are the Tgs of PE? Return as Markdown table\")\n",
        "display(Markdown(f\"{response}\"))"
      ]
    }
  ],
  "metadata": {
    "kernelspec": {
      "display_name": ".venv",
      "language": "python",
      "name": "python3"
    },
    "language_info": {
      "codemirror_mode": {
        "name": "ipython",
        "version": 3
      },
      "file_extension": ".py",
      "mimetype": "text/x-python",
      "name": "python",
      "nbconvert_exporter": "python",
      "pygments_lexer": "ipython3",
      "version": "3.10.12"
    }
  },
  "nbformat": 4,
  "nbformat_minor": 2
}
