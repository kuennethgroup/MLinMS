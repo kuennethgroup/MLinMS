{
 "cells": [
  {
   "cell_type": "markdown",
   "metadata": {},
   "source": [
    "# Tutorial \n"
   ]
  },
  {
   "cell_type": "markdown",
   "metadata": {},
   "source": [
    "### Modify the loss function\n",
    "\n",
    "1. Make your own copy of `step-by-step-linear-regression.ipynb`\n",
    "2. Modify the batch size (1, 10,  32, 64) and observe how the learning curve changes\n",
    "3. Use the mean absolute error (MAE) function instead of the MSE loss function\n",
    "\n",
    "$$\n",
    "\\text{MAE} = \\frac{1}{n} \\sum_{i=1}^{n} |y_i - \\hat{y}_i|\n",
    "$$\n",
    "\n",
    "4. See the scalers at https://scikit-learn.org/stable/modules/classes.html#module-sklearn.preprocessing. Replace the MinMaxScaler with the `QuantileTransformer` and `RobustScaler`\n",
    "5. Add a column with normalized tendencies to crystallize to the pandas dataframe and train a model with these normalized models\n"
   ]
  },
  {
   "cell_type": "code",
   "execution_count": null,
   "metadata": {},
   "outputs": [],
   "source": []
  }
 ],
 "metadata": {
  "language_info": {
   "name": "python"
  }
 },
 "nbformat": 4,
 "nbformat_minor": 2
}
